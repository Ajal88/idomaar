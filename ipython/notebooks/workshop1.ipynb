{
 "metadata": {
  "name": "Basic exercises"
 },
 "nbformat": 3,
 "nbformat_minor": 0,
 "worksheets": [
  {
   "cells": [
    {
     "cell_type": "code",
     "collapsed": false,
     "input": "import urllib2, json\nimport numpy as np\n\ninputEnt = 'https://raw.githubusercontent.com/crowdrec/datasets/master/01.MovieTweetings/datasets/snapshots_10K/entities.dat'\ninputRel = 'https://raw.githubusercontent.com/crowdrec/datasets/master/01.MovieTweetings/datasets/snapshots_10K/relations.dat'\n\nif 'http' in inputEnt:\n    response = urllib2.urlopen(inputEnt)\n    html = response.read()\n    entitiesRDD = sc.parallelize(html.split(\"\\n\")).filter(lambda x: \"{\" in x and \"EOF\\t0\" not in x)\n\n\nif 'http' in inputRel:\n    response = urllib2.urlopen(inputRel)\n    html = response.read()\n    relationsRDD = sc.parallelize(html.split(\"\\n\")).filter(lambda x: \"{\" in x and \"EOF\\t0\" not in x)\n\n\n\n\n",
     "language": "python",
     "metadata": {},
     "outputs": [],
     "prompt_number": 2
    },
    {
     "cell_type": "heading",
     "level": 1,
     "metadata": {},
     "source": "Basic action: first(), take(), count()"
    },
    {
     "cell_type": "code",
     "collapsed": false,
     "input": "print \"First allow to see the 'first' result of the RDD:\\n\",entitiesRDD.first()\nprint \"\\nTake(n) allow to see the 'first' n results of the RDD:\"\nfor k in entitiesRDD.take(5):\n    print k\nprint \"\\nCount allow to count the number of elements in the RDD:\",entitiesRDD.count()",
     "language": "python",
     "metadata": {},
     "outputs": [
      {
       "output_type": "stream",
       "stream": "stdout",
       "text": "First allow to see the 'first' result of the RDD:\nuser\t1\t-1\t{\"twitterid\":\"177651718\"}\t{}"
      },
      {
       "output_type": "stream",
       "stream": "stdout",
       "text": "\n\nTake(n) allow to see the 'first' n results of the RDD:\nuser\t1\t-1\t{\"twitterid\":\"177651718\"}\t{}"
      },
      {
       "output_type": "stream",
       "stream": "stdout",
       "text": "\nuser\t2\t-1\t{\"twitterid\":\"103607473\"}\t{}\nuser\t3\t-1\t{\"twitterid\":\"288317450\"}\t{}\nuser\t4\t-1\t{\"twitterid\":\"68640782\"}\t{}\nuser\t5\t-1\t{\"twitterid\":\"199219885\"}\t{}\n\nCount allow to count the number of elements in the RDD: "
      },
      {
       "output_type": "stream",
       "stream": "stdout",
       "text": "6890\n"
      }
     ],
     "prompt_number": 9
    },
    {
     "cell_type": "heading",
     "level": 2,
     "metadata": {},
     "source": "Map"
    },
    {
     "cell_type": "code",
     "collapsed": false,
     "input": "print \"Map applies a function to each element of the RDD one by one (in this example, a simple 'str.split()'):\" \nrelationsRDD.map(lambda x: x.split(\"\\t\")).first()",
     "language": "python",
     "metadata": {},
     "outputs": [
      {
       "output_type": "stream",
       "stream": "stdout",
       "text": "Map applies a function to each element of the RDD one by one (in this example, a simple 'str.split()')\n"
      },
      {
       "metadata": {},
       "output_type": "pyout",
       "prompt_number": 13,
       "text": "['rating.explicit',\n '1',\n '1363245118',\n '{\"rating\":9}',\n '{\"subject\":\"user:1\",\"object\":\"movie:0120735\"}']"
      }
     ],
     "prompt_number": 13
    },
    {
     "cell_type": "code",
     "collapsed": false,
     "input": "print \"We can use map to create RDD with an handler structure e.g. (event,ts) :\"\nrelationsRDD.map(lambda x: (\"event:\"+x.split(\"\\t\")[1], x.split(\"\\t\")[2])).first()",
     "language": "python",
     "metadata": {},
     "outputs": [
      {
       "output_type": "stream",
       "stream": "stdout",
       "text": "We can use map to create RDD with an handler structure e.g. (user,ts) :\n"
      },
      {
       "metadata": {},
       "output_type": "pyout",
       "prompt_number": 23,
       "text": "('user:1', '1363245118')"
      }
     ],
     "prompt_number": 23
    },
    {
     "cell_type": "code",
     "collapsed": false,
     "input": "import datetime\n\nprint \"We can apply 'custom' function:\\nfor example, we can compute the day of the month from the ts\"\ndef dayOfTheMonth(x):\n    return datetime.datetime.fromtimestamp(x).strftime('%d')\n    \n    \n    \nrelationsRDD.map(lambda x: (\"event:\"+x.split(\"\\t\")[1], x.split(\"\\t\")[2])).map(lambda x: (x[0],x[1], dayOfTheMonth(float(x[1])))).first()",
     "language": "python",
     "metadata": {},
     "outputs": [
      {
       "output_type": "stream",
       "stream": "stdout",
       "text": "We can apply 'custom' function:\nfor example, we can compute the day of the month from the ts\n"
      },
      {
       "metadata": {},
       "output_type": "pyout",
       "prompt_number": 35,
       "text": "('event:1', '1363245118', '14')"
      }
     ],
     "prompt_number": 35
    },
    {
     "cell_type": "heading",
     "level": 2,
     "metadata": {},
     "source": "Distinct"
    },
    {
     "cell_type": "code",
     "collapsed": false,
     "input": "print \"We can use distinct map and count to extract the number of distinct ts in the dataset\"\nprint \"Number of ts:\",relationsRDD.map(lambda x: x.split(\"\\t\")[2]).count()\nprint \"Number of distinct ts:\",relationsRDD.map(lambda x: x.split(\"\\t\")[2]).distinct().count()",
     "language": "python",
     "metadata": {},
     "outputs": [
      {
       "output_type": "stream",
       "stream": "stdout",
       "text": "We can use distinct map and count to extract the number of distinct ts in the dataset\nNumber of ts: "
      },
      {
       "output_type": "stream",
       "stream": "stdout",
       "text": "10000\nNumber of distinct ts: "
      },
      {
       "output_type": "stream",
       "stream": "stdout",
       "text": "9963\n"
      }
     ],
     "prompt_number": 37
    },
    {
     "cell_type": "heading",
     "level": 2,
     "metadata": {},
     "source": "PairRDD (key,value)"
    },
    {
     "cell_type": "code",
     "collapsed": false,
     "input": "print \"Finally, we can use map to create PairRDD (i.e. RDD where each element is in the form '(key,(value)' ):\"\nrelationsRDD.map(lambda x: (\"event:\"+x.split(\"\\t\")[1], (x.split(\"\\t\")[2]))).first()  ",
     "language": "python",
     "metadata": {},
     "outputs": [
      {
       "output_type": "stream",
       "stream": "stdout",
       "text": "Finally, we can use map to create PairRDD (i.e. RDD where each element is in the form '(key,(value)' ):\n"
      },
      {
       "metadata": {},
       "output_type": "pyout",
       "prompt_number": 30,
       "text": "('event:1', '1363245118')"
      }
     ],
     "prompt_number": 30
    },
    {
     "cell_type": "code",
     "collapsed": false,
     "input": "print \"It is useful to create PairRDD (key, 1) to count up any quantities (e.g. the number of event occurred in the same ts)\"\nrelationsRDD.map(lambda x: (x.split(\"\\t\")[2], 1)).first()  ",
     "language": "python",
     "metadata": {},
     "outputs": [
      {
       "output_type": "stream",
       "stream": "stdout",
       "text": "It is useful to create PairRDD (key, 1) to count up any quantities (e.g. the number of item with a specific id)\n"
      },
      {
       "metadata": {},
       "output_type": "pyout",
       "prompt_number": 31,
       "text": "('1363245118', 1)"
      }
     ],
     "prompt_number": 31
    },
    {
     "cell_type": "heading",
     "level": 2,
     "metadata": {},
     "source": "ReduceByKey"
    },
    {
     "cell_type": "code",
     "collapsed": false,
     "input": "print \"With reduceByKey we can group tuples with the same key mixing up their values using any function.\"\nprint \"for example we want to create a list of event occurred in the same ts.\" \n\nrelationsRDD.map(lambda x: (x.split(\"\\t\")[2],1)).reduceByKey(lambda x,y: x+y).first()",
     "language": "python",
     "metadata": {},
     "outputs": [
      {
       "output_type": "stream",
       "stream": "stdout",
       "text": "With reduceByKey we can group tuples with the same key mixing up their values using any function.\nfor example we want to create a list of event occurred in the same ts.\nWith top(n,key=lambda x: ...) is possible to extract the top n items\n"
      },
      {
       "metadata": {},
       "output_type": "pyout",
       "prompt_number": 34,
       "text": "[('1362696157', 2),\n ('1362336723', 2),\n ('1363216232', 2),\n ('1362350784', 2),\n ('1362984188', 2)]"
      }
     ],
     "prompt_number": 34
    },
    {
     "cell_type": "heading",
     "level": 2,
     "metadata": {},
     "source": "Top"
    },
    {
     "cell_type": "code",
     "collapsed": false,
     "input": "print \"With top(n,key=lambda x: ...) is possible to extract the top n items\"\nrelationsRDD.map(lambda x: (x.split(\"\\t\")[2],1)).reduceByKey(lambda x,y: x+y).top(5,key=lambda x: x[1])",
     "language": "python",
     "metadata": {},
     "outputs": []
    },
    {
     "cell_type": "heading",
     "level": 2,
     "metadata": {},
     "source": "parallelize"
    },
    {
     "cell_type": "code",
     "collapsed": false,
     "input": "print \"'sc.parallelize()' allow us to parse a list into an RDD\"\nl = list()\nl.append(((2,('c1',1))))\nl.append(((1,('c2',1))))\nl.append(((5,('c1',1))))\nl.append(((6,('c2',1))))\nc = sc.parallelize(l)\nprint \"First line:\",c.first()",
     "language": "python",
     "metadata": {},
     "outputs": [
      {
       "output_type": "stream",
       "stream": "stdout",
       "text": "'sc.parallelize()' allow us to parse a list into an RDD\nFirst line: "
      },
      {
       "output_type": "stream",
       "stream": "stdout",
       "text": "(2, ('c1', 1))\n"
      }
     ],
     "prompt_number": 44
    },
    {
     "cell_type": "heading",
     "level": 2,
     "metadata": {},
     "source": "Join"
    },
    {
     "cell_type": "code",
     "collapsed": false,
     "input": "print \"Join allow us to make 'sql-like' join\"\n\nl = list()\nl.append(((2,('c1',1))))\nl.append(((1,('c2',1))))\nl.append(((5,('c1',1))))\nl.append(((6,('c2',1))))\nc = sc.parallelize(l)\n\nl2 = list()\nl2.append((1,('m1',1)))\nl2.append((3,('m2',1)))\nl2.append((4,('m3',1)))\nl2.append((5,('m2',1)))\nl2.append((6,('m3',1)))\nm = sc.parallelize(l2)\n\n\nprint \"c:\",c.collect(), \"m:\",m.collect()\nprint \"c.join(m):\"\nc.join(m).collect()\n",
     "language": "python",
     "metadata": {},
     "outputs": [
      {
       "output_type": "stream",
       "stream": "stdout",
       "text": "Join allow us to make 'sql-like' join\nc: [(2, ('c1', 1)), (1, ('c2', 1)), (5, ('c1', 1)), (6, ('c2', 1))] m: [(1, ('m1', 1)), (3, ('m2', 1)), (4, ('m3', 1)), (5, ('m2', 1)), (6, ('m3', 1))]\nc.fullOuterJoin(m):\n"
      },
      {
       "metadata": {},
       "output_type": "pyout",
       "prompt_number": 42,
       "text": "[(1, (('c2', 1), ('m1', 1))),\n (5, (('c1', 1), ('m2', 1))),\n (6, (('c2', 1), ('m3', 1)))]"
      }
     ],
     "prompt_number": 42
    },
    {
     "cell_type": "heading",
     "level": 2,
     "metadata": {},
     "source": "Cartesian"
    },
    {
     "cell_type": "code",
     "collapsed": false,
     "input": "print \"Cartesian compute the cartesian product of two RDD\"\nc.cartesian(m).collect()",
     "language": "python",
     "metadata": {},
     "outputs": [
      {
       "output_type": "stream",
       "stream": "stdout",
       "text": "Cartesian compute the cartesian product of two RDD\n"
      },
      {
       "metadata": {},
       "output_type": "pyout",
       "prompt_number": 45,
       "text": "[((2, ('c1', 1)), (1, ('m1', 1))),\n ((2, ('c1', 1)), (3, ('m2', 1))),\n ((2, ('c1', 1)), (4, ('m3', 1))),\n ((2, ('c1', 1)), (5, ('m2', 1))),\n ((2, ('c1', 1)), (6, ('m3', 1))),\n ((1, ('c2', 1)), (1, ('m1', 1))),\n ((1, ('c2', 1)), (3, ('m2', 1))),\n ((1, ('c2', 1)), (4, ('m3', 1))),\n ((1, ('c2', 1)), (5, ('m2', 1))),\n ((1, ('c2', 1)), (6, ('m3', 1))),\n ((5, ('c1', 1)), (1, ('m1', 1))),\n ((5, ('c1', 1)), (3, ('m2', 1))),\n ((5, ('c1', 1)), (4, ('m3', 1))),\n ((5, ('c1', 1)), (5, ('m2', 1))),\n ((5, ('c1', 1)), (6, ('m3', 1))),\n ((6, ('c2', 1)), (1, ('m1', 1))),\n ((6, ('c2', 1)), (3, ('m2', 1))),\n ((6, ('c2', 1)), (4, ('m3', 1))),\n ((6, ('c2', 1)), (5, ('m2', 1))),\n ((6, ('c2', 1)), (6, ('m3', 1)))]"
      }
     ],
     "prompt_number": 45
    },
    {
     "cell_type": "heading",
     "level": 2,
     "metadata": {},
     "source": "Filter"
    },
    {
     "cell_type": "code",
     "collapsed": false,
     "input": "print \"We can use filter on top of cartesian to save only some tuples\"\nprint \"e.g. we want to save only tuples where the first value of the first tuple is bigger than the first value of the other one\"\nc.cartesian(m).filter(lambda x: x[0][0] > x[1][0]).collect()",
     "language": "python",
     "metadata": {},
     "outputs": [
      {
       "output_type": "stream",
       "stream": "stdout",
       "text": "We can use filter on top of cartesian to save only some tuples\ne.g. we want to save only tuples where the first value of the first tuple is bigger than the first value of the other one\n"
      },
      {
       "metadata": {},
       "output_type": "pyout",
       "prompt_number": 48,
       "text": "[((2, ('c1', 1)), (1, ('m1', 1))),\n ((5, ('c1', 1)), (1, ('m1', 1))),\n ((5, ('c1', 1)), (3, ('m2', 1))),\n ((5, ('c1', 1)), (4, ('m3', 1))),\n ((6, ('c2', 1)), (1, ('m1', 1))),\n ((6, ('c2', 1)), (3, ('m2', 1))),\n ((6, ('c2', 1)), (4, ('m3', 1))),\n ((6, ('c2', 1)), (5, ('m2', 1)))]"
      }
     ],
     "prompt_number": 48
    },
    {
     "cell_type": "heading",
     "level": 2,
     "metadata": {},
     "source": "Exercises to do"
    },
    {
     "cell_type": "raw",
     "metadata": {},
     "source": "Please,\ntry to do this exercise at the best of your skill.\nWe will wait a bit before showing the result.\nIf you know the result, you can raise your hand and try.\nIf these exercises are too easy for you, do them alone and try the optional ones.\nWe will not show the results for the [optional] one: you can email your solution to us."
    },
    {
     "cell_type": "code",
     "collapsed": false,
     "input": "## 0. show first line of each file \n# time: 2' \n",
     "language": "python",
     "metadata": {},
     "outputs": []
    },
    {
     "cell_type": "code",
     "collapsed": false,
     "input": "## 1. count the numbers of relations and entities\n# time: 2' \n",
     "language": "python",
     "metadata": {},
     "outputs": []
    },
    {
     "cell_type": "code",
     "collapsed": false,
     "input": "## 2. extract 10 distinct \"subject\" from 10 lines from the relationsRDD RDD\n# time: 5' \n",
     "language": "python",
     "metadata": {},
     "outputs": []
    },
    {
     "cell_type": "code",
     "collapsed": false,
     "input": "## 3. How many distinct users we have?\n# time: 2' \n",
     "language": "python",
     "metadata": {},
     "outputs": []
    },
    {
     "cell_type": "code",
     "collapsed": false,
     "input": "## 4. Count the numbers of events for 10 users\n# time: 5' \n",
     "language": "python",
     "metadata": {},
     "outputs": []
    },
    {
     "cell_type": "code",
     "collapsed": false,
     "input": "## 5. [Optional] Extract the top 10 viewed items\n",
     "language": "python",
     "metadata": {},
     "outputs": []
    },
    {
     "cell_type": "code",
     "collapsed": false,
     "input": "## 6. [Optional] How many movies has been watched exactly 10 times?\n",
     "language": "python",
     "metadata": {},
     "outputs": []
    },
    {
     "cell_type": "code",
     "collapsed": false,
     "input": "## 7. [Optional] Create the histogram sorted by 'times' \n## e.g. \n## There are 1874 movies watched  1 times\n## There are 517 movies watched  2 times\n## There are 252 movies watched  3 times\n",
     "language": "python",
     "metadata": {},
     "outputs": []
    },
    {
     "cell_type": "code",
     "collapsed": false,
     "input": "## 8. Print 10 lines with this format:\n## (twitterId,movie:id,ts, rating)\n# time: 5' ",
     "language": "python",
     "metadata": {},
     "outputs": []
    },
    {
     "cell_type": "code",
     "collapsed": false,
     "input": "## 9. [Optional] Print 10 lines with this format:\n## (twitterId,title,ts, rating)\n",
     "language": "python",
     "metadata": {},
     "outputs": []
    },
    {
     "cell_type": "code",
     "collapsed": false,
     "input": "## 10.0 Create an user RDD with this format: (userid,movieid) \n# time: 2' \n",
     "language": "python",
     "metadata": {},
     "outputs": []
    },
    {
     "cell_type": "code",
     "collapsed": false,
     "input": "## 10.1 extract a couple of users if both has seen the same movie\n# time: 5' \n",
     "language": "python",
     "metadata": {},
     "outputs": []
    },
    {
     "cell_type": "code",
     "collapsed": false,
     "input": "",
     "language": "python",
     "metadata": {},
     "outputs": []
    },
    {
     "cell_type": "code",
     "collapsed": false,
     "input": "",
     "language": "python",
     "metadata": {},
     "outputs": []
    },
    {
     "cell_type": "code",
     "collapsed": false,
     "input": "",
     "language": "python",
     "metadata": {},
     "outputs": []
    }
   ],
   "metadata": {}
  }
 ]
}
